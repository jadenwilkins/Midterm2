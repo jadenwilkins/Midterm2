{
 "cells": [
  {
   "cell_type": "markdown",
   "id": "817470b9",
   "metadata": {},
   "source": [
    "# Midterm 2 coding Questions Total : 60 \n",
    "### 50 minute\n",
    "### Name- Jaden Wilkins\n",
    "After complition submit it on Moodle using `GitHub` with in the assigned time \n"
   ]
  },
  {
   "cell_type": "markdown",
   "id": "8d611a3d",
   "metadata": {},
   "source": [
    "### Question 1. Print all of the numbers between 1 to 10 and square each numbers and append those to a new list\n",
    "- 5 points"
   ]
  },
  {
   "cell_type": "code",
   "execution_count": 53,
   "id": "d539c611",
   "metadata": {},
   "outputs": [
    {
     "name": "stdout",
     "output_type": "stream",
     "text": [
      "[1, 4, 9, 16, 25, 36, 49, 64, 81, 100]\n"
     ]
    }
   ],
   "source": [
    "empty_list=[]\n",
    "for i in range (1,11):\n",
    "    empty_list.append(i**2)\n",
    "print(empty_list)"
   ]
  },
  {
   "cell_type": "code",
   "execution_count": null,
   "id": "27b90d4e",
   "metadata": {},
   "outputs": [],
   "source": []
  },
  {
   "cell_type": "markdown",
   "id": "8ef2873c",
   "metadata": {},
   "source": [
    "### Question 2. Create a list of 10 random numbers and find out minimum , maximum and total of teh list.\n",
    "* 5 + 3 = 8 points"
   ]
  },
  {
   "cell_type": "code",
   "execution_count": 4,
   "id": "45e5ee75",
   "metadata": {},
   "outputs": [],
   "source": [
    "rand_list=[24,345,343,4,43,286,2,124,76543,937]"
   ]
  },
  {
   "cell_type": "code",
   "execution_count": 5,
   "id": "e069f7c9",
   "metadata": {},
   "outputs": [
    {
     "data": {
      "text/plain": [
       "2"
      ]
     },
     "execution_count": 5,
     "metadata": {},
     "output_type": "execute_result"
    }
   ],
   "source": [
    "min(rand_list)"
   ]
  },
  {
   "cell_type": "code",
   "execution_count": 6,
   "id": "f28f0424",
   "metadata": {},
   "outputs": [
    {
     "data": {
      "text/plain": [
       "76543"
      ]
     },
     "execution_count": 6,
     "metadata": {},
     "output_type": "execute_result"
    }
   ],
   "source": [
    "max(rand_list)"
   ]
  },
  {
   "cell_type": "code",
   "execution_count": 8,
   "id": "89baf410",
   "metadata": {},
   "outputs": [
    {
     "data": {
      "text/plain": [
       "78651"
      ]
     },
     "execution_count": 8,
     "metadata": {},
     "output_type": "execute_result"
    }
   ],
   "source": [
    "sum(rand_list)"
   ]
  },
  {
   "cell_type": "markdown",
   "id": "2ebd3676",
   "metadata": {},
   "source": [
    "### Question 3. Print `day` and `300` from the new_list\n",
    "new_list= [10, ['new', 300, [[3.141, 20],  345 ]], 'day' ]\n",
    "* 3 + 3 = 6 points"
   ]
  },
  {
   "cell_type": "code",
   "execution_count": 10,
   "id": "6a656b2c",
   "metadata": {},
   "outputs": [],
   "source": [
    "new_list= [10, ['new', 300, [[3.141, 20], 345 ]], 'day' ]"
   ]
  },
  {
   "cell_type": "code",
   "execution_count": 27,
   "id": "46f163c1",
   "metadata": {},
   "outputs": [
    {
     "data": {
      "text/plain": [
       "['day']"
      ]
     },
     "execution_count": 27,
     "metadata": {},
     "output_type": "execute_result"
    }
   ],
   "source": [
    "new_list[-1:3]"
   ]
  },
  {
   "cell_type": "code",
   "execution_count": 55,
   "id": "2504be8b",
   "metadata": {},
   "outputs": [
    {
     "data": {
      "text/plain": [
       "300"
      ]
     },
     "execution_count": 55,
     "metadata": {},
     "output_type": "execute_result"
    }
   ],
   "source": [
    "new_list[1][1]"
   ]
  },
  {
   "cell_type": "markdown",
   "id": "68fd8f82",
   "metadata": {},
   "source": [
    "### Question 4.  College=(\"Bellarmine\", \"2001 Neuburg RD\")\n",
    "Print the `name` of the College.\n",
    "* 5 points"
   ]
  },
  {
   "cell_type": "code",
   "execution_count": 33,
   "id": "a56eca6f",
   "metadata": {},
   "outputs": [],
   "source": [
    "College=(\"Bellarmine\", \"2001 Neuburg RD\")"
   ]
  },
  {
   "cell_type": "code",
   "execution_count": 38,
   "id": "7b7ba2d3",
   "metadata": {},
   "outputs": [
    {
     "data": {
      "text/plain": [
       "('Bellarmine',)"
      ]
     },
     "execution_count": 38,
     "metadata": {},
     "output_type": "execute_result"
    }
   ],
   "source": [
    "College[0:1]"
   ]
  },
  {
   "cell_type": "markdown",
   "id": "3468dc38",
   "metadata": {},
   "source": [
    "### Question 5. In the United States as of 1995, minor is generally legally defined as a person under the age of 18. Write a code to check a student is minor or not. Verify the code by user input\n",
    "* 6 points"
   ]
  },
  {
   "cell_type": "code",
   "execution_count": 40,
   "id": "efebbcfd",
   "metadata": {},
   "outputs": [
    {
     "name": "stdout",
     "output_type": "stream",
     "text": [
      "Enter your age: 16\n",
      "This person is a minor.\n"
     ]
    }
   ],
   "source": [
    "age= int(input(\"Enter your age: \"))\n",
    "if (age>=18):\n",
    "    print(\"This person is an adult.\")\n",
    "else:\n",
    "    print(\"This person is a minor.\")"
   ]
  },
  {
   "cell_type": "code",
   "execution_count": null,
   "id": "b4a00def",
   "metadata": {},
   "outputs": [],
   "source": []
  },
  {
   "cell_type": "markdown",
   "id": "f84b9ccd",
   "metadata": {},
   "source": [
    "### Question 6. Get an input from user and check whether the number is `odd` and `greater than 10`. If not then comment\n",
    "* 5 points"
   ]
  },
  {
   "cell_type": "code",
   "execution_count": 44,
   "id": "1c59673a",
   "metadata": {},
   "outputs": [
    {
     "name": "stdout",
     "output_type": "stream",
     "text": [
      "Enter a number: 89\n",
      "This number is odd and greater than ten.\n"
     ]
    }
   ],
   "source": [
    "number= int(input(\"Enter a number: \"))\n",
    "if number%2 !=0 and number > 10:\n",
    "    print(\"This number is odd and greater than ten.\")\n",
    "else:\n",
    "    print(\"This number is not odd and greater than 10\")\n",
    " \n"
   ]
  },
  {
   "cell_type": "code",
   "execution_count": null,
   "id": "3f1d3047",
   "metadata": {},
   "outputs": [],
   "source": []
  },
  {
   "cell_type": "markdown",
   "id": "45951768",
   "metadata": {},
   "source": [
    "### Question 7. Get a user input and check the given number is multiple of 11 or not\n",
    "* 5 points"
   ]
  },
  {
   "cell_type": "code",
   "execution_count": 50,
   "id": "39bc4fb6",
   "metadata": {},
   "outputs": [
    {
     "name": "stdout",
     "output_type": "stream",
     "text": [
      "Enter a number: 121\n",
      "This number is a multiple of 11.\n"
     ]
    }
   ],
   "source": [
    "user_num= int(input(\"Enter a number: \"))\n",
    "if user_num%11 == 0:\n",
    "    print(\"This number is a multiple of 11.\")\n",
    "else:\n",
    "    print(\"This number is not a multiple of 11.\")"
   ]
  },
  {
   "cell_type": "code",
   "execution_count": null,
   "id": "a8d685dc",
   "metadata": {},
   "outputs": [],
   "source": []
  },
  {
   "cell_type": "markdown",
   "id": "a0763abf",
   "metadata": {},
   "source": [
    "### Question 8. Convert the lists to dictionary\n",
    "* keys =  [10, 20, 30]\n",
    "* values =['Ten', 'Twenty', 'Thirty']\n",
    "* 4 points"
   ]
  },
  {
   "cell_type": "code",
   "execution_count": 51,
   "id": "e62f4e7c",
   "metadata": {},
   "outputs": [],
   "source": [
    "keys = [10, 20, 30]\n",
    "values =['Ten', 'Twenty', 'Thirty']"
   ]
  },
  {
   "cell_type": "code",
   "execution_count": 52,
   "id": "1280159f",
   "metadata": {},
   "outputs": [
    {
     "data": {
      "text/plain": [
       "[(10, 'Ten'), (20, 'Twenty'), (30, 'Thirty')]"
      ]
     },
     "execution_count": 52,
     "metadata": {},
     "output_type": "execute_result"
    }
   ],
   "source": [
    "list(zip(keys,values))"
   ]
  },
  {
   "cell_type": "markdown",
   "id": "c2784d84",
   "metadata": {},
   "source": [
    "### Question 9. Write a function that can take `any arbitary numbers` as inputs and calculate the maximum of them. Check the function for two sets of inputs.\n",
    "* 2+2 points"
   ]
  },
  {
   "cell_type": "code",
   "execution_count": 56,
   "id": "f5654b0e",
   "metadata": {},
   "outputs": [],
   "source": [
    "def maximum(*args):\n",
    "    return max(args)"
   ]
  },
  {
   "cell_type": "code",
   "execution_count": 57,
   "id": "327224c2",
   "metadata": {},
   "outputs": [
    {
     "data": {
      "text/plain": [
       "321134"
      ]
     },
     "execution_count": 57,
     "metadata": {},
     "output_type": "execute_result"
    }
   ],
   "source": [
    "maximum(127,2345,2,567,321134,6543)"
   ]
  },
  {
   "cell_type": "markdown",
   "id": "c108c295",
   "metadata": {},
   "source": [
    "### Question 10. Write functions to find out Area and Perimeter of a square. Check the result for side = 10.\n",
    "\n",
    "* 3+3 points\n"
   ]
  },
  {
   "cell_type": "code",
   "execution_count": 62,
   "id": "a1ad705a",
   "metadata": {},
   "outputs": [],
   "source": [
    "def square_area(side):\n",
    "    print('The area of the square is', side**2)\n",
    "\n",
    "def square_perimeter(side):\n",
    "    print('The perimeter of the square is', side*4)"
   ]
  },
  {
   "cell_type": "code",
   "execution_count": 63,
   "id": "13cc9893",
   "metadata": {},
   "outputs": [
    {
     "name": "stdout",
     "output_type": "stream",
     "text": [
      "The area of the square is 144\n"
     ]
    }
   ],
   "source": [
    "square_area(12)"
   ]
  },
  {
   "cell_type": "code",
   "execution_count": 64,
   "id": "74233538",
   "metadata": {},
   "outputs": [
    {
     "name": "stdout",
     "output_type": "stream",
     "text": [
      "The perimeter of the square is 32\n"
     ]
    }
   ],
   "source": [
    "square_perimeter(8)"
   ]
  },
  {
   "cell_type": "markdown",
   "id": "a187f917",
   "metadata": {},
   "source": [
    "### Question 11. Write down two program using while and for loop that prints all of the number from 10 to 20 (included) \n",
    "* 3+3 points"
   ]
  },
  {
   "cell_type": "code",
   "execution_count": 65,
   "id": "5afcef79",
   "metadata": {},
   "outputs": [
    {
     "name": "stdout",
     "output_type": "stream",
     "text": [
      "10\n",
      "11\n",
      "12\n",
      "13\n",
      "14\n",
      "15\n",
      "16\n",
      "17\n",
      "18\n",
      "19\n",
      "20\n"
     ]
    }
   ],
   "source": [
    "for i in range(10,21):\n",
    "    print(i)"
   ]
  },
  {
   "cell_type": "code",
   "execution_count": 66,
   "id": "eb21f8ce",
   "metadata": {},
   "outputs": [
    {
     "name": "stdout",
     "output_type": "stream",
     "text": [
      "10\n",
      "11\n",
      "12\n",
      "13\n",
      "14\n",
      "15\n",
      "16\n",
      "17\n",
      "18\n",
      "19\n",
      "20\n"
     ]
    }
   ],
   "source": [
    "first_num=10\n",
    "while first_num<=20:\n",
    "    print(first_num)\n",
    "    first_num+=1"
   ]
  }
 ],
 "metadata": {
  "kernelspec": {
   "display_name": "Python 3 (ipykernel)",
   "language": "python",
   "name": "python3"
  },
  "language_info": {
   "codemirror_mode": {
    "name": "ipython",
    "version": 3
   },
   "file_extension": ".py",
   "mimetype": "text/x-python",
   "name": "python",
   "nbconvert_exporter": "python",
   "pygments_lexer": "ipython3",
   "version": "3.9.12"
  }
 },
 "nbformat": 4,
 "nbformat_minor": 5
}
